{
  "cells": [
    {
      "cell_type": "markdown",
      "metadata": {
        "collapsed": true,
        "id": "s0oAMC2mPzKp"
      },
      "source": [
        "# Linear Combination \n",
        "\n",
        "In this notebook we will learn how to solve linear combination problems using the python package [NumPy](http://www.numpy.org/) and its linear algebra subpackage [linalg](https://docs.scipy.org/doc/numpy-1.13.0/reference/routines.linalg.html). \n",
        "## Determining a Vector's span\n",
        "\n",
        "The set of all possible vectors that we can reach with a linear combination of a given pair of vectors is called the span of those two vectors. Let's say we are given the pair of vectors $\\vec{v}$ and $\\vec{w}$, and we want to determine if a third vector $\\vec{t}$ is within their span. If vector $\\vec{t}$ is determined to be within their span, this means that $\\vec{t}$ can be written as a linear combination of the pair of vectors $\\vec{v}$ and $\\vec{w}$. \n",
        "\n",
        "This could be written as:\n",
        "\n",
        "$\\hspace{1cm}a\\vec{v} + b\\vec{w} = \\vec{t}$,$\\hspace{0.3cm}$where $\\vec{v}$ and $\\vec{w}$ are multiplied by scalars $a$ and $b$ and then added together to produce vector $\\vec{t}$. \n",
        "\n",
        "$\\hspace{1.2cm}$*Equation 1*\n",
        "\n",
        "This means if we can find a set of values for the scalars $a$ and $b$ that make *equation 1* true, then $\\vec{t}$ is within the span of $\\vec{v}$ and $\\vec{w}$. Otherwise, if there is **no** set of values of the scalars $a$ and $b$ that make *equation 1* true, then $\\vec{t}$ is **not** within their span. \n",
        "\n"
      ]
    },
    {
      "cell_type": "markdown",
      "metadata": {
        "id": "DmgHXipNPzKs"
      },
      "source": [
        "\n",
        "We can determine a vector's span computationally using NumPy's linear algebra subpackage [linalg](https://docs.scipy.org/doc/numpy-1.13.0/reference/routines.linalg.html). \n",
        "If the vectors have the following values:\n",
        "    \n",
        "$\\hspace{1cm}\\vec{v} = \\begin{bmatrix} 1\\\\ 3\\end{bmatrix}$\n",
        "$\\hspace{0.3cm}\\vec{w} = \\begin{bmatrix} 2\\\\ 5\\end{bmatrix}$ \n",
        "$\\hspace{0.3cm}\\vec{t} = \\begin{bmatrix} 4\\\\ 11\\end{bmatrix}$    \n",
        "\n",
        "We can rewrite $a\\vec{v} + b\\vec{w} = \\vec{t}$ as: \n",
        "    \n",
        "$\\hspace{1cm} a \\begin{bmatrix} 1\\\\ 3\\end{bmatrix} + b \\begin{bmatrix} 2\\\\ 5\\end{bmatrix} = \\begin{bmatrix} 4\\\\ 11\\end{bmatrix}$ \n",
        "\n",
        "In a linear algebra class you might have solved this problem by hand, using reduced row echelon form and rewriting *equation 1* as the augmented matrix. We have provided the augmented matrix for *equation 1* below. \n",
        "\n",
        "$\n",
        "\\hspace{1cm}\n",
        "\\left[\n",
        "\\begin{array}{cc|c}\n",
        "1 & 2  & 4 \\\\\n",
        "3 & 5 & 11 \\\\\n",
        "\\end{array}\n",
        "\\right]\n",
        "$\n",
        "\n",
        "Notice that the augmented matrix's right side contains the vector $\\vec{t}$. This is the vector that we are trying to determine if it's contained within the span of the other vectors, $\\vec{v}$ and $\\vec{w}$. Those other vectors whose span we are checking, compose the left side of the augmented matrix."
      ]
    },
    {
      "cell_type": "markdown",
      "metadata": {
        "id": "tVRas64pPzKt"
      },
      "source": [
        "## Determining Span Computationally\n",
        "Instead of solving the problem by hand, we are going to solve this problem computationally using NumPy's linear algebra subpackage ([linalg](https://docs.scipy.org/doc/numpy-1.13.0/reference/routines.linalg.html)) .\n",
        "\n",
        "**Steps to Determine a Vector's Span Computationally**:\n",
        "\n",
        "1. Make the [NumPy](http://www.numpy.org/) Python package available using the import method   \n",
        "&nbsp;     \n",
        "2. Create right and left sides of the augmented matrix         \n",
        "    \n",
        "    &nbsp;    \n",
        "3. Use NumPy's [**linalg.solve** function](https://docs.scipy.org/doc/numpy-1.13.0/reference/generated/numpy.linalg.solve.html#numpy.linalg.solve) to check a vector's span computationally by solving for the scalars that make the equation true. \n",
        "\n"
      ]
    },
    {
      "cell_type": "code",
      "execution_count": 1,
      "metadata": {
        "colab": {
          "base_uri": "https://localhost:8080/"
        },
        "id": "Pj85Ou15PzKu",
        "outputId": "bd660a4c-6efa-4d30-987d-b3399972a97f"
      },
      "outputs": [
        {
          "output_type": "stream",
          "name": "stdout",
          "text": [
            "\n",
            "Matrix vw:\n",
            "[[1 2]\n",
            " [3 5]]\n",
            "\n",
            "Vector t:\n",
            "[ 4 11]\n"
          ]
        }
      ],
      "source": [
        "# Makes Python package NumPy available using import method\n",
        "import numpy as np\n",
        "\n",
        "# Creates matrix t (right side of the augmented matrix).\n",
        "t = np.array([4, 11])\n",
        "\n",
        "# Creates matrix vw (left side of the augmented matrix).\n",
        "vw = np.array([[1, 2], [3, 5]])\n",
        "\n",
        "# Prints vw and t\n",
        "print(\"\\nMatrix vw:\", vw, \"\\nVector t:\", t, sep=\"\\n\")\n"
      ]
    },
    {
      "cell_type": "markdown",
      "metadata": {
        "id": "Y7KhzzJQPzKw"
      },
      "source": [
        "### TODO: Check Vector's Span with *__linalg.solve__* function\n",
        "You will be using NumPy's [**linalg.solve** function](https://docs.scipy.org/doc/numpy-1.13.0/reference/generated/numpy.linalg.solve.html#numpy.linalg.solve)\n",
        "to check if vector $\\vec{t}$ is within the span of the other two vectors, $\\vec{v}$ and $\\vec{w}$. To complete this task, you will be inserting your code into the function *__check_vector_span__* that is defined in the coding cell below.\n",
        "\n",
        "**Note the Following**:\n",
        "- Use the [**linalg.solve** function](https://docs.scipy.org/doc/numpy-1.13.0/reference/generated/numpy.linalg.solve.html#numpy.linalg.solve) to solve for the scalars (**vector_of_scalars**) that will make *equation 1* above \n",
        "**true**, *ONLY* when the vector that's being checked (**vector_to_check**) is within the span of the other vectors (**set_of_vectors**).   \n",
        "\n",
        "                                      \n",
        "- *Otherwise*, the vector (**vector_to_check**) is **not** within the span and an empty vector is returned.  \n",
        "                                      \n",
        "                                      \n",
        "                                      \n",
        "Below you will find the definitions of the parameters and returned variable to help you with this task. \n",
        "\n",
        "- **Function Parameters:**\n",
        "    - **set_of_vectors** is the left side of the augmented matrix. This parameter represents the set of vectors (e.g. $\\vec{v}$ and $\\vec{w}$) whose span you are checking.\n",
        "    - **vector_to_check** is the right side of the augmented matrix. This parameter represents the vector (e.g. $\\vec{t}$) that's checked to see if it's within the span of the vectors in **set_of_vectors**.\n",
        "\n",
        "                                      \n",
        "- **Returned variable:** \n",
        "    - **vector_of_scalars** contains the scalars that will solve the equations **\"if\"** the checked vector is within the span of the set of vectors. Otherwise, this will be an empty vector. \n",
        "\n",
        "With the Python code below, you will be completing step **3** of *determine a vector's span computationally*. In the code below (see *__TODO:__*), you will need to replace **None** below with code that uses [**linalg.solve** function](https://docs.scipy.org/doc/numpy-1.13.0/reference/generated/numpy.linalg.solve.html#numpy.linalg.solve) to solve for the scalars (*vector_of_scalars*)."
      ]
    },
    {
      "cell_type": "code",
      "execution_count": 2,
      "metadata": {
        "collapsed": true,
        "id": "Hjsg4k-6PzKx"
      },
      "outputs": [],
      "source": [
        "def check_vector_span(set_of_vectors, vector_to_check):\n",
        "    # Creates an empty vector of correct size\n",
        "    vector_of_scalars = np.asarray([None]*set_of_vectors.shape[0])\n",
        "    \n",
        "    # Solves for the scalars that make the equation true if vector is within the span\n",
        "    try:\n",
        "        # Use np.linalg.solve() function here to solve for vector_of_scalars\n",
        "        vector_of_scalars = np.linalg.solve(set_of_vectors, vector_to_check)\n",
        "        if not (vector_of_scalars is None):\n",
        "            print(\"\\nVector is within span.\\nScalars in s:\", vector_of_scalars)\n",
        "    # Handles the cases when the vector is NOT within the span   \n",
        "    except Exception as exception_type:\n",
        "        if str(exception_type) == \"Singular matrix\":\n",
        "            print(\"\\nNo single solution\\nVector is NOT within span\")\n",
        "        else:\n",
        "            print(\"\\nUnexpected Exception Error:\", exception_type)\n",
        "    return vector_of_scalars\n"
      ]
    },
    {
      "cell_type": "markdown",
      "metadata": {
        "collapsed": true,
        "id": "iIObz35BPzKy"
      },
      "source": [
        "### Checking *check_vector_span* by Solving for Scalars\n",
        "Let's see if $\\vec{t}$ is within the span of vectors $\\vec{v}$ and $\\vec{w}$ and check the code you added to the *check_vector_span* function above. \n",
        "\n",
        "*Notice that*:\n",
        "\n",
        "- There is code added to check two additional sets of vectors (see the additional vectors below).  \n",
        "\n",
        "\n",
        "- To *run* your code:\n",
        "    - Click on the Save icon (disk icon right under *'File'* in the menu bar above), to save your work.\n",
        "    - Select *'Kernel'* and *'Restart & Run All'*, to run your code.  \n",
        "\n",
        "\n",
        "\n",
        "The second set of vectors have the follwing values and augmented matrix:\n",
        "\n",
        "$\\hspace{1cm}\\vec{v2} = \\begin{bmatrix} 1\\\\ 2\\end{bmatrix}$\n",
        "$\\hspace{0.3cm}\\vec{w2} = \\begin{bmatrix} 2\\\\ 4\\end{bmatrix}$ \n",
        "$\\hspace{0.3cm}\\vec{t2} = \\begin{bmatrix} 6\\\\ 12\\end{bmatrix}$  $\\hspace{0.9cm}\n",
        "\\left[\n",
        "\\begin{array}{cc|c}\n",
        "1 & 2  & 6 \\\\\n",
        "2 & 4 & 12 \\\\\n",
        "\\end{array}\n",
        "\\right]\n",
        "$\n",
        "\n",
        "The third set of vectors have the follwing values and augmented matrix:\n",
        "\n",
        "$\\hspace{1cm}\\vec{v3} = \\begin{bmatrix} 1\\\\ 1\\end{bmatrix}$\n",
        "$\\hspace{0.3cm}\\vec{w3} = \\begin{bmatrix} 2\\\\ 2\\end{bmatrix}$ \n",
        "$\\hspace{0.3cm}\\vec{t3} = \\begin{bmatrix} 6\\\\ 10\\end{bmatrix}$  $\\hspace{0.9cm}\n",
        "\\left[\n",
        "\\begin{array}{cc|c}\n",
        "1 & 2  & 6 \\\\\n",
        "1 & 2 & 10 \\\\\n",
        "\\end{array}\n",
        "\\right]\n",
        "$\n",
        "\n",
        "With the Python code below, you will be checking the function you created with step **3** of *determine a vector's span computationally*. "
      ]
    },
    {
      "cell_type": "code",
      "execution_count": 3,
      "metadata": {
        "colab": {
          "base_uri": "https://localhost:8080/"
        },
        "id": "Ng9dNSthPzKz",
        "outputId": "498d6497-cc2d-4637-8975-8fdeeca4841c"
      },
      "outputs": [
        {
          "output_type": "stream",
          "name": "stdout",
          "text": [
            "\n",
            "Equation 1:\n",
            " Matrix vw:\n",
            "[[1 2]\n",
            " [3 5]]\n",
            "\n",
            "Vector t:\n",
            "[ 4 11]\n",
            "\n",
            "Vector is within span.\n",
            "Scalars in s: [2. 1.]\n",
            "\n",
            "New Vectors:\n",
            " Matrix vw2:\n",
            "[[1 2]\n",
            " [2 4]]\n",
            "\n",
            "Vector t2:\n",
            "[ 6 12]\n",
            "\n",
            "No single solution\n",
            "Vector is NOT within span\n",
            "\n",
            "New Vectors:\n",
            " Matrix vw3:\n",
            "[[1 2]\n",
            " [1 2]]\n",
            "\n",
            "Vector t3:\n",
            "[ 6 10]\n",
            "\n",
            "No single solution\n",
            "Vector is NOT within span\n"
          ]
        }
      ],
      "source": [
        "# Call to check_vector_span to check vectors in Equation 1\n",
        "print(\"\\nEquation 1:\\n Matrix vw:\", vw, \"\\nVector t:\", t, sep=\"\\n\")\n",
        "s = check_vector_span(vw,t)\n",
        "\n",
        "# Call to check a new set of vectors vw2 and t2\n",
        "vw2 = np.array([[1, 2], [2, 4]]) \n",
        "t2 = np.array([6, 12])\n",
        "print(\"\\nNew Vectors:\\n Matrix vw2:\", vw2, \"\\nVector t2:\", t2, sep=\"\\n\")    \n",
        "# Call to check_vector_span\n",
        "s2 = check_vector_span(vw2,t2)\n",
        "\n",
        "# Call to check a new set of vectors vw3 and t3\n",
        "vw3 = np.array([[1, 2], [1, 2]]) \n",
        "t3 = np.array([6, 10])\n",
        "print(\"\\nNew Vectors:\\n Matrix vw3:\", vw3, \"\\nVector t3:\", t3, sep=\"\\n\")    \n",
        "# Call to check_vector_span\n",
        "s3 = check_vector_span(vw3,t3)\n"
      ]
    },
    {
      "cell_type": "markdown",
      "metadata": {
        "id": "YwN8rwZFPzK0"
      },
      "source": [
        "## System of Equations\n",
        "All the cases that we tested above could have also been written as a system of two equations, where we are trying to solve for the values of the scalars that make both equations true. For the system of equations, scalar $a$ becomes $x$ and scalar $b$ becomes $y$.\n",
        "\n",
        "So *Equation 1*, $a\\vec{v} + b\\vec{w} = \\vec{t}$, which could be written as: \n",
        "    \n",
        "$\\hspace{1cm} a \\begin{bmatrix} 1\\\\ 3\\end{bmatrix} + b \\begin{bmatrix} 2\\\\ 5\\end{bmatrix} = \\begin{bmatrix} 4\\\\ 11\\end{bmatrix}$, where $a = 2$ and $b = 1$ \n",
        "\n",
        "Becomes the following system of two equations that is written as:\n",
        "\n",
        "$\\hspace{1cm} \\begin{array}{rcl} x + 2y & = & 4 \\\\ 3x + 5y  & = & 11 \\end{array}$, where $x = 2$ and $y = 1$ \n",
        "\n",
        "*__Notice that__*:\n",
        "\n",
        "- The vectors $\\vec{v}$ and $\\vec{w}$ become the coefficients on the *left* side of both equations. \n",
        "\n",
        "- The vector $\\vec{t}$ become the solution on the *right* side of both equations. \n",
        "\n",
        "- The scalar $a$ becomes the variable $x$ and the scalar $b$ becomes variable $y$ in both equations.\n",
        "\n",
        "- Each of the equations can be represented by a line plotted in two dimensions.\n",
        "\n",
        "\n",
        "Systems of equations always result in *one* of *three* possible solutions. One occurs when the vector is within the span and there's a solution, like with the example above. The other two cases can occur when the vector is **not** within span. Below we describe each of the three cases.\n",
        "\n",
        "\n",
        "### Case 1 - Single solution\n",
        "We could have considered *Equation 1* as the following system of two equations:\n",
        "\n",
        "$\\hspace{1cm} \\begin{array}{rcl} x + 2y & = & 4 \\\\ 3x + 5y  & = & 11 \\end{array}$, where $x = 2$ and $y = 1$ \n",
        "\n",
        "We would have used the same method to solve this system of equations for $x$ and $y$, as we did to determine vector $\\vec{t}$'s span. This means when the vector is within the span, there is a single solution to the system of equations. This single solution graphically is represented where the lines intersect (the red dot on the graph below). "
      ]
    },
    {
      "cell_type": "code",
      "execution_count": 4,
      "metadata": {
        "colab": {
          "base_uri": "https://localhost:8080/",
          "height": 279
        },
        "id": "L2COcWsnPzK1",
        "outputId": "f6c8d932-5d0d-4267-df72-8b030b22d05d"
      },
      "outputs": [
        {
          "output_type": "display_data",
          "data": {
            "text/plain": [
              "<Figure size 432x288 with 1 Axes>"
            ],
            "image/png": "[encoded data removed]"
          },
          "metadata": {
            "needs_background": "light"
          }
        }
      ],
      "source": [
        "%matplotlib inline\n",
        "import matplotlib.pyplot as plt\n",
        "plt.plot([4,0],[0,2],'b',linewidth=3)\n",
        "plt.plot([3.6667,0],[0,2.2],'c-.',linewidth=3)\n",
        "plt.plot([2],[1],'ro',linewidth=3)\n",
        "plt.xlabel('Single Solution')\n",
        "plt.show()"
      ]
    },
    {
      "cell_type": "markdown",
      "metadata": {
        "id": "KV81cdzmPzK2"
      },
      "source": [
        "### Case 2 - Infinite Solutions\n",
        "The second case is when there are infinite values that the scalars could have taken because at least two of the equations are redundant. In our case, our only two equations are redundant and they represent the same line (see graph below). \n",
        "\n",
        "This second case is represented by $vw2$ and $t2$ where:\n",
        "    \n",
        "$\\hspace{1cm} \\begin{array}{rcl} x + 2y & = & 6 \\\\ 2x + 4y  & = & 12 \\end{array}$, where **infinite** $x$ and $y$ makes this *__true__* because the equations are redundant. "
      ]
    },
    {
      "cell_type": "code",
      "execution_count": 5,
      "metadata": {
        "colab": {
          "base_uri": "https://localhost:8080/",
          "height": 279
        },
        "id": "JWPuMCTFPzK2",
        "outputId": "2e8e8cee-a0bd-4153-8ef7-c7224fc92d98"
      },
      "outputs": [
        {
          "output_type": "display_data",
          "data": {
            "text/plain": [
              "<Figure size 432x288 with 1 Axes>"
            ],
            "image/png": "[encoded data removed]"
          },
          "metadata": {
            "needs_background": "light"
          }
        }
      ],
      "source": [
        "import matplotlib.pyplot as plt\n",
        "plt.plot([6,0],[0,3],'b',linewidth=5)\n",
        "plt.plot([1,4,6,0],[2.5,1,0,3],'c-.',linewidth=2)\n",
        "plt.xlabel('Redundant Equations')\n",
        "plt.show()"
      ]
    },
    {
      "cell_type": "markdown",
      "metadata": {
        "id": "tCznnen1PzK3"
      },
      "source": [
        "### Case 3 - No Solution\n",
        "The third case is that there are **no** values that the scalars could have taken that would have simutaneously solved all equations.\n",
        "In our case, our only two equations are represented by parallel lines because they have no solution (see graph below). \n",
        "\n",
        "This third case is represented by $vw3$ and $t3$ where:\n",
        "    \n",
        "$\\hspace{1cm} \\begin{array}{rcl} x + 2y & = & 6 \\\\ x + 2y  & = & 10 \\end{array}$, where **no** $x$ and $y$ make this true. "
      ]
    },
    {
      "cell_type": "code",
      "execution_count": 6,
      "metadata": {
        "colab": {
          "base_uri": "https://localhost:8080/",
          "height": 279
        },
        "id": "Ty_yEKIkPzK3",
        "outputId": "54ba1cf2-38d4-4dd8-a659-526a1c34ad78"
      },
      "outputs": [
        {
          "output_type": "display_data",
          "data": {
            "text/plain": [
              "<Figure size 432x288 with 1 Axes>"
            ],
            "image/png": "[encoded data removed]"
          },
          "metadata": {
            "needs_background": "light"
          }
        }
      ],
      "source": [
        "import matplotlib.pyplot as plt\n",
        "plt.plot([10,0],[0,5],'b',linewidth=3)\n",
        "plt.plot([0,6],[3,0],'c-.',linewidth=3)\n",
        "plt.xlabel('No Solution')\n",
        "plt.show()"
      ]
    }
  ],
  "metadata": {
    "kernelspec": {
      "display_name": "Python 3",
      "language": "python",
      "name": "python3"
    },
    "language_info": {
      "codemirror_mode": {
        "name": "ipython",
        "version": 3
      },
      "file_extension": ".py",
      "mimetype": "text/x-python",
      "name": "python",
      "nbconvert_exporter": "python",
      "pygments_lexer": "ipython3",
      "version": "3.6.3"
    },
    "colab": {
      "name": "linear Combination.ipynb",
      "provenance": []
    }
  },
  "nbformat": 4,
  "nbformat_minor": 0
}